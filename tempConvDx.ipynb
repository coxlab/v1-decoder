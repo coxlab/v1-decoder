{
 "cells": [
  {
   "cell_type": "code",
   "execution_count": 83,
   "metadata": {
    "collapsed": false
   },
   "outputs": [
    {
     "name": "stdout",
     "output_type": "stream",
     "text": [
      "The autoreload extension is already loaded. To reload it, use:\n",
      "  %reload_ext autoreload\n"
     ]
    }
   ],
   "source": [
    "import os\n",
    "import h5py\n",
    "import numpy as np\n",
    "import pandas as pd\n",
    "from data_helpers import grouper\n",
    "from tempConv import tempConvDecoder\n",
    "from sklearn.metrics import confusion_matrix\n",
    "\n",
    "%load_ext autoreload\n",
    "%autoreload 2\n",
    "%matplotlib inline"
   ]
  },
  {
   "cell_type": "code",
   "execution_count": 2,
   "metadata": {
    "collapsed": false
   },
   "outputs": [
    {
     "data": {
      "text/plain": [
       "(80690, 34)"
      ]
     },
     "execution_count": 2,
     "metadata": {},
     "output_type": "execute_result"
    }
   ],
   "source": [
    "## get and format data\n",
    "# lfp power bands\n",
    "neural_data_file = h5py.File('datasets/GRat31_636061_all_sorted_spikes.hdf5', 'r')\n",
    "neural_data = np.asarray(neural_data_file['sorted_spikes']) # iterate through powerbands\n",
    "neural_data.shape"
   ]
  },
  {
   "cell_type": "code",
   "execution_count": 80,
   "metadata": {
    "collapsed": false
   },
   "outputs": [
    {
     "name": "stdout",
     "output_type": "stream",
     "text": [
      "head_signals shape:  (80690, 3)\n"
     ]
    }
   ],
   "source": [
    "head_signals_h5 = h5py.File('datasets/GRat31_636061_all_head_data.hdf5', 'r')\n",
    "idx_start, idx_stop = [3,6]\n",
    "\n",
    "# dx\n",
    "head_signal = np.asarray(\n",
    "    [np.asarray(head_signals_h5[key]) for key in head_signals_h5.keys()][0:9]\n",
    ").T[:,idx_start:idx_stop]\n",
    "print('head_signals shape: ', head_signal.shape)\n",
    "\n",
    "# head_signals_keys = list(head_signals_h5.keys())[0:9][idx_start:idx_stop]\n",
    "# head_signals_int = ['yaw_abs', 'roll_abs', 'pitch_abs']\n",
    "# print('head_signals_keys intuitive: ', head_signals_int)"
   ]
  },
  {
   "cell_type": "code",
   "execution_count": 92,
   "metadata": {
    "collapsed": false
   },
   "outputs": [
    {
     "data": {
      "text/plain": [
       "array([  3.02586149e-02,  -1.52645508e-02,   3.97888278e-03,\n",
       "         6.13548277e-03,   4.27395620e-03,   6.47417621e-04,\n",
       "         1.47317093e-02,   5.74976396e-03,  -3.29849665e-03,\n",
       "         6.23799305e-03,  -2.22612779e-02,  -9.07869402e-03,\n",
       "         6.65859188e-03,  -4.19948065e-03,  -9.34697509e-04,\n",
       "        -6.85261915e-05,   1.47826750e-02,   5.51965667e-03,\n",
       "         4.91836678e-03,   1.20928397e-02,  -2.17919344e-02,\n",
       "        -2.16071886e-02,   2.09097435e-03,  -8.26242276e-03,\n",
       "        -1.76371113e-02,   3.51037186e-04,   4.98269628e-02,\n",
       "         6.46501294e-02,   6.02881088e-04,  -4.38898143e-02,\n",
       "        -4.16498827e-02,  -3.36884089e-02,  -1.44245378e-02,\n",
       "         2.99746635e-02,   1.69246031e-02,   1.01747322e-02,\n",
       "         1.25945501e-01,   1.28004692e-01,   1.13247756e-01,\n",
       "         9.84169144e-02,  -5.37452621e-02,  -4.25896564e-02,\n",
       "        -1.48623268e-03,  -1.70661356e-02,   8.52043356e-03,\n",
       "        -4.84822274e-03,   1.20149614e-03,   1.23278168e-03,\n",
       "        -2.33169011e-03,   2.96137025e-03,  -2.72558138e-03,\n",
       "         1.92737449e-03,  -8.81578505e-04,  -8.23712202e-05,\n",
       "         7.43212434e-04,  -1.02507155e-03,   9.70633853e-04,\n",
       "        -6.96920506e-04,   3.37884525e-04,  -5.55641473e-06,\n",
       "        -2.29642116e-04,   3.41913017e-04,  -3.41714118e-04,\n",
       "         2.61765487e-04,  -1.42432138e-04,   2.02096448e-05,\n",
       "         7.88785573e-05,  -1.40952771e-04,   1.62363617e-04,\n",
       "        -1.46195298e-04,   9.90818729e-05,  -2.95367684e-05,\n",
       "        -5.19921424e-05,   1.32076000e-04,  -1.93615863e-04,\n",
       "         2.16944271e-04,  -1.83636420e-04,   8.29259812e-05,\n",
       "         8.06642518e-05,  -2.81048801e-04,   4.68851598e-04,\n",
       "        -5.77027735e-04,   5.35311094e-04,  -2.92784751e-04,\n",
       "        -1.54903003e-04,   7.42519954e-04,  -1.32788487e-03,\n",
       "         1.70248450e-03,  -1.63910691e-03,   9.74741698e-04,\n",
       "         2.47140842e-04,  -1.81919806e-03,   3.67569111e-03,\n",
       "        -4.94397996e-03,   5.16591157e-03,  -3.06303449e-03,\n",
       "         3.12510497e-03,  -4.16713708e-03,  -3.94699427e-02,\n",
       "         6.16338032e-03])"
      ]
     },
     "execution_count": 92,
     "metadata": {},
     "output_type": "execute_result"
    }
   ],
   "source": [
    "y = head_signal[:,0]\n",
    "y[:100]"
   ]
  },
  {
   "cell_type": "code",
   "execution_count": 6,
   "metadata": {
    "collapsed": false
   },
   "outputs": [
    {
     "name": "stdout",
     "output_type": "stream",
     "text": [
      "head_signals shape:  (80690,)\n"
     ]
    }
   ],
   "source": [
    "# make head signals binary\n",
    "head_signal = np.sign(head_signal)\n",
    "head_signal[head_signal<0] = 0\n",
    "print('head_signals shape: ', head_signal.shape)"
   ]
  },
  {
   "cell_type": "code",
   "execution_count": 18,
   "metadata": {
    "collapsed": false
   },
   "outputs": [
    {
     "name": "stdout",
     "output_type": "stream",
     "text": [
      "head_signals shape:  (80690,)\n"
     ]
    }
   ],
   "source": [
    "# make head signals thresholded binary for movement or no movement\n",
    "head_signal[head_signal>0.1] = 1\n",
    "head_signal[head_signal<-0.1] = 1\n",
    "head_signal[head_signal<0.1] = 0\n",
    "print('head_signals shape: ', head_signal.shape)"
   ]
  },
  {
   "cell_type": "code",
   "execution_count": 79,
   "metadata": {
    "collapsed": false
   },
   "outputs": [
    {
     "name": "stdout",
     "output_type": "stream",
     "text": [
      "head_signals shape:  (80690,)\n"
     ]
    },
    {
     "data": {
      "text/plain": [
       "0.71247986119717432"
      ]
     },
     "execution_count": 79,
     "metadata": {},
     "output_type": "execute_result"
    }
   ],
   "source": [
    "# y[y>0.1] = 1\n",
    "y[y<0.1] = 0\n",
    "print('head_signals shape: ', y.shape)\n",
    "hist = np.histogram(y)\n",
    "1-hist[0][-1]/(hist[0][0]+hist[0][-1])"
   ]
  },
  {
   "cell_type": "code",
   "execution_count": 75,
   "metadata": {
    "collapsed": false
   },
   "outputs": [],
   "source": [
    "stats = []"
   ]
  },
  {
   "cell_type": "code",
   "execution_count": 93,
   "metadata": {
    "collapsed": false
   },
   "outputs": [
    {
     "name": "stdout",
     "output_type": "stream",
     "text": [
      "X_train and y_train shape: (3195, 60, 34) (3195, 1)\n",
      "Train on 3195 samples, validate on 798 samples\n",
      "Epoch 1/15\n",
      "3195/3195 [==============================] - 0s - loss: 0.6970 - binary_accuracy: 0.4898 - val_loss: 0.6928 - val_binary_accuracy: 0.5276\b\b\b\b\b\b\b\b\b\b\b\b\b\b\b\b\b\b\b\b\b\b\b\b\b\b\b\b\b\b\b\b\b\b\b\b\b\b\b\b\b\b\b\b\b\b\b\b\b\b\b\b\b\b\b\b\b\b\b\b\b\b\b\b\b\b\b\b\b\b\b\b\b\b\b\b\b\b\b\b\b\b\b\b\b\b\b\b\b\b\b\b\b\b\b\b\b\b\b\b\b\b\b\b\b\b\b\b\b\b\b\b\b\b\b\b\b\b\b\b\b\b\b\b\b\b\b\b\b\b\b\b\b\b\b\b\b\b\b\b\b\b\n",
      "Epoch 2/15\n",
      "3195/3195 [==============================] - 0s - loss: 0.6930 - binary_accuracy: 0.5114 - val_loss: 0.6929 - val_binary_accuracy: 0.5025\b\b\b\b\b\b\b\b\b\b\b\b\b\b\b\b\b\b\b\b\b\b\b\b\b\b\b\b\b\b\b\b\b\b\b\b\b\b\b\b\b\b\b\b\b\b\b\b\b\b\b\b\b\b\b\b\b\b\b\b\b\b\b\b\b\b\b\b\b\b\b\b\b\b\b\b\b\b\b\b\b\b\b\b\b\b\b\b\b\b\b\b\b\b\b\b\b\b\b\b\b\b\b\b\b\b\b\b\b\b\b\b\b\b\b\b\b\b\b\b\b\b\b\b\b\b\b\b\b\b\b\b\b\b\b\b\b\b\b\b\b\b\n",
      "Epoch 3/15\n",
      "3195/3195 [==============================] - 0s - loss: 0.6927 - binary_accuracy: 0.5164 - val_loss: 0.6931 - val_binary_accuracy: 0.5025\b\b\b\b\b\b\b\b\b\b\b\b\b\b\b\b\b\b\b\b\b\b\b\b\b\b\b\b\b\b\b\b\b\b\b\b\b\b\b\b\b\b\b\b\b\b\b\b\b\b\b\b\b\b\b\b\b\b\b\b\b\b\b\b\b\b\b\b\b\b\b\b\b\b\b\b\b\b\b\b\b\b\b\b\b\b\b\b\b\b\b\b\b\b\b\b\b\b\b\b\b\b\b\b\b\b\b\b\b\b\b\b\b\b\b\b\b\b\b\b\b\b\b\b\b\b\b\b\b\b\b\b\b\b\b\b\b\b\b\b\b\b\n",
      "Epoch 4/15\n",
      "3195/3195 [==============================] - 0s - loss: 0.6917 - binary_accuracy: 0.5174 - val_loss: 0.6931 - val_binary_accuracy: 0.5025\b\b\b\b\b\b\b\b\b\b\b\b\b\b\b\b\b\b\b\b\b\b\b\b\b\b\b\b\b\b\b\b\b\b\b\b\b\b\b\b\b\b\b\b\b\b\b\b\b\b\b\b\b\b\b\b\b\b\b\b\b\b\b\b\b\b\b\b\b\b\b\b\b\b\b\b\b\b\b\b\b\b\b\b\b\b\b\b\b\b\b\b\b\b\b\b\b\b\b\b\b\b\b\b\b\b\b\b\b\b\b\b\b\b\b\b\b\b\b\b\b\b\b\b\b\b\b\b\b\b\b\b\b\b\b\b\b\b\b\b\b\b\n"
     ]
    }
   ],
   "source": [
    "TCD = tempConvDecoder(neural_data,y,['yaw_abs'],window=60, offset=30, nb_filter=10, eps=15, regressor=False, lr=0.000001)\n",
    "TCD.fit()\n",
    "R2s,rs = TCD.determine_fit()\n",
    "stats.append([R2s, rs])"
   ]
  },
  {
   "cell_type": "code",
   "execution_count": 49,
   "metadata": {
    "collapsed": false
   },
   "outputs": [
    {
     "name": "stdout",
     "output_type": "stream",
     "text": [
      "[[[0.031335573358747926], [0.44710916743939016]], [[0.030854799427534996], [0.41781672502187289]], [[0.022740946245136562], [0.40926178580167749]], [[0.15305565370523522], [0.47199295774758659]], [[0.29723049771566235], [0.56423019434111854]], [[0.36563370169367715], [0.60758494005721786]], [[0.24284237956721089], [0.52159547396710604]], [[0.24469942913792631], [0.50982654898191426]], [[0.23564322397730364], [0.5131946820165838]], [[0.26918824957093657], [0.53728062133379872]], [[0.28206590787106722], [0.53406484553512557]], [[0.1952049762957615], [0.49160434574808548]]]\n"
     ]
    }
   ],
   "source": [
    "print(stats)"
   ]
  },
  {
   "cell_type": "code",
   "execution_count": 94,
   "metadata": {
    "collapsed": false
   },
   "outputs": [
    {
     "data": {
      "text/plain": [
       "0.50250626566416035"
      ]
     },
     "execution_count": 94,
     "metadata": {},
     "output_type": "execute_result"
    }
   ],
   "source": [
    "hist = np.histogram(TCD.y_test)\n",
    "1-hist[0][-1]/(hist[0][0]+hist[0][-1])"
   ]
  },
  {
   "cell_type": "code",
   "execution_count": null,
   "metadata": {
    "collapsed": true
   },
   "outputs": [],
   "source": []
  },
  {
   "cell_type": "code",
   "execution_count": 43,
   "metadata": {
    "collapsed": false
   },
   "outputs": [
    {
     "data": {
      "text/plain": [
       "24913"
      ]
     },
     "execution_count": 43,
     "metadata": {},
     "output_type": "execute_result"
    }
   ],
   "source": [
    "# confusion_matrix(TCD.y_test,TCD.y_test_hat)\n",
    "# list(zip(TCD.y_test[:100],TCD.y_test_hat[:100]))\n",
    "np.sum(np.histogram(TCD.y_test_hat)[0])"
   ]
  },
  {
   "cell_type": "code",
   "execution_count": 44,
   "metadata": {
    "collapsed": false
   },
   "outputs": [
    {
     "name": "stdout",
     "output_type": "stream",
     "text": [
      "24608/24913 [============================>.] - ETA: 0s\b\b\b\b\b\b\b\b\b\b\b\b\b\b\b\b\b\b\b\b\b\b\b\b\b\b\b\b\b\b\b\b\b\b\b\b\b\b\b\b\b\b\b\b\b\b\b\b\b\b\b\b\b\b\b\b\b\b\b\b\b\b\b\b\b\b\b\b\b\b\b\b\b\b\b\b\b\b\b\b\b\b\b\b\b\b\b\b\b\b\b\b\b\b\b\b\b\b\b\b\b\b\b\b\b\b\b\b\b\b\b\b\b\b\b\b\b\b\b\b\b\b\b\b\b\b\b\b\b\b\b\b\b\b\b\b\b\b\b\b\b\b\b\b\b\b\b\b\b\b\b\b\b\b\b\b\b\b\b\b\b\b\b\b\b\b\b\b\b\b\b\b\b\b\b\b\b\b\b\b\b\b\b\b\b\b\b\b\b\b\b\b\b\b\b\b\b\b\b\b\b\b\b\b\b\b\b\b\b\b\b\b\b\b\b\b\b\b\b\b\b\b\b\b\b\b\b\b\b\b\b\b\b\b\b\b\b\b\b\b\b\b\b\b\b\b\b\b\b\b\b\b\b\b\b\b\b\b\b\b\b\b\b\b\b\b\b\b\b\b\b\b\b\b\b\b\b\b\b\b\b\b\b\b\b\b\b\b\b\b\b\b\b\b\b\b\b\b\b\b\b\b\b\b\b\b\b\b\b\b\b\b\b\b\b\b\b\b\b\b\b\b\b\b\b\b\b\b\b\b\b\b\b\b\b\b\b\b\b\b\b\b\b\b\b\b\b\b\b\b\b\b\b\b\b\b\b\b\b\b\b\b\b\b\b\b\b\b\b\b\b\b\b\b\b\b\b\b\b\b\b\b\b\b\b\b\b\b\b\b\b\b\b\b\b\b\b\b\b\b\b\b\b\b\b\b\b\b\b\b\b\b\b\b\b\b\b\b\b\b\b\b\b\b\b\b\b\b\b\b\b\b\b\b\b\b\b\b\b\b\b\b\b\b\b\b\b\b\b\b\b\b\b\b\b\b\b\b\b\b\b\b\b\b\b\b\b\b\b\b\b\b\b\b\b\b\b\b\b\b\b\b\b\b\b\b\b\b\b\b\b\b\b\b\b\b\b\b\b\b\b\b\b\b\b\b\b\b\b\b\b\b\b\b\b\b\b\b\b\b\b\b\b\b\b\b\b\b\b\b\b\b\b\b\b\b\b\b\b\b\b\b\b\b\b\b\b\b\b\b\b\b\b\b\b\b\b\b\b\b\b\b\b\b\b\b\b\b\b\b\b\b\b\b\b\b\b\b\b\b\b\b\b\b\b\b\b\b\b\b\b\b\b\b\b\b\b\b\b\b\b\b\b\b\b\b\b\b\b\b\b\b\b\b\b\b\b\b\b\b\b\b\b\b\b\b\b\b\b\b\b\b\b\b\b\b\b\b\b\b\b\b\b\b\b\b\b\b\b\b\b\b\b\b\b\b\b\b\b\b\b\b\b\b\b\b\b\b\b\b\b\b\b\b\b\b\b\b\b\b\b\b\b\b\b\b\b\b\b\b\b\b\b\b\b\b\b\b\b\b\b\b\b\b\b\b\b\b\b\b\b\b\b\b\b\b\b\b\b\b\b\b\b\b\b\b\b\b\b\b\b\b\b\b\b\b\b\b\b\b\b\b\b\b\b\b\b\b\b\b\b\b\b\b\b\b\b\b\b\b\b\b\b\b\b\b\b\b\b\b\b\b\b\b\b\b\b\b\b\b\b\b\b\b\b\b\b\b\b\b\b\b\b\b\b\b\b\b\b\b\b\b\b\b\b\b\b\b\b\b\b\b\b\b\b\b\b\b\b\b\b\b\b\b\b\b\b\b\b\b\b\b\b\b\b\b\b\b\b\b\b\b\b\b\b\b\b\b\b\b\b\b\b\b\b\b\b\b\b\b\b\b\b\b\b\b\b\b\b\b\b\b\b\b\b\b\b\b\b\b\b\b\b\b\b\b\b\b\b\b\b\b\b\b\b\b\b\b\b\b\b\b\b\b\b\b\b\b\b\b\b\b\b\b\b\b\b\b\b\b\b\b\b\b\b\b\b\b\b\b\b\b\b\b\b\b\b\b\b\b\b\b\b\b\b\b\b\b\b\b\b\b\b\b\b\b\b\b\b\b\b\b\b\b\b\b\b\b\b\b\b\b\b\b\b\b\b\b\b\b\b\b\b\b\b\b\b\b\b\b\b\b\b\b\b\b\b\b\b\b\b\b\b\b\b\b\b\b\b\b\b\b\b\b\b\b\b\b\b\b\b\b\b\b\b\b\b\b\b\b\b\b\b\b\b\b\b\b\b\b\b\b\b\b\b\b\b\b\b\b\b\b\b\b\b\b\b\b\b\b\b\b\b\b\b\b\b\b\b\b\b\b\b\b\b\b\b\b\b\b\b\b\b\b\b\b\b\b\b\b\b\b\b\b\b\b\b\b\b\b\b\b\b\b\b\b\b\b\b\b\b\b\b\b\b\b\b\b\b\b\b\b\b\b\b\b\b\b\b\b\b\b\b\b\b\b\b\b\b\b\b\b\b\b\b\b\b\b\b\b\b\b\b\b\b\b\b\b\b\b\b\b\b\b\b\b\b\b\b\b\b\b\b\b\b\b\b\b\b\b\b\b\b\b\b\b\b\b\b\b\b\b\b\b\b\b\b\b\b\b\b\b\b\b\b\b\b\b\b\b\b\b\b\b\b\b\b\b\b\b\b\b\b\b\b\b\b\b\b\b\b\b\b\b\b\b\b\b\b\b\b\b"
     ]
    },
    {
     "data": {
      "text/plain": [
       "[0.52790511442393295, 0.74992975554931163]"
      ]
     },
     "execution_count": 44,
     "metadata": {},
     "output_type": "execute_result"
    }
   ],
   "source": [
    "TCD.model.evaluate(TCD.X_test,TCD.y_test)"
   ]
  }
 ],
 "metadata": {
  "kernelspec": {
   "display_name": "Python 3",
   "language": "python",
   "name": "python3"
  },
  "language_info": {
   "codemirror_mode": {
    "name": "ipython",
    "version": 3
   },
   "file_extension": ".py",
   "mimetype": "text/x-python",
   "name": "python",
   "nbconvert_exporter": "python",
   "pygments_lexer": "ipython3",
   "version": "3.6.0"
  }
 },
 "nbformat": 4,
 "nbformat_minor": 2
}
