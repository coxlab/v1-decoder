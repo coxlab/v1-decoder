{
 "cells": [
  {
   "cell_type": "code",
   "execution_count": null,
   "metadata": {
    "collapsed": false
   },
   "outputs": [],
   "source": [
    "import os\n",
    "import h5py\n",
    "import numpy as np\n",
    "import pandas as pd\n",
    "from data_helpers import grouper\n",
    "from TempConv import tempConvDecoder\n",
    "\n",
    "%load_ext autoreload\n",
    "%autoreload 2"
   ]
  },
  {
   "cell_type": "code",
   "execution_count": null,
   "metadata": {
    "collapsed": false
   },
   "outputs": [],
   "source": [
    "## get and format data\n",
    "# lfp power bands\n",
    "lfp_file = h5py.File('datasets/GRat31_636061_lfp_power.hdf5', 'r')\n",
    "lfp_data = np.asarray(lfp_file['lfp_power']) # iterate through powerbands\n",
    "\n",
    "# sorted spike rates\n",
    "spikes_file = h5py.File('datasets/GRat31_636061_all_sorted_spikes.hdf5', 'r')\n",
    "spikes_data = np.asarray(spikes_file['sorted_spikes']).T\n",
    "\n",
    "# concatenate all neural data\n",
    "neural_data = np.concatenate((spikes_data, lfp_data), axis=0)\n",
    "print(neural_data.shape)\n",
    "\n",
    "tetrodes = grouper(neural_data, neural_data.shape[0])\n",
    "print(tetrodes.shape)\n",
    "\n",
    "head_signals_h5 = h5py.File('datasets/GRat31_636061_all_head_data.hdf5', 'r')\n",
    "idx_start, idx_stop = [6,9]\n",
    "head_signals = np.asarray(\n",
    "    [np.asarray(head_signals_h5[key]) for key in head_signals_h5.keys()][0:9]\n",
    ").T[:,idx_start:idx_stop]\n",
    "print('head_signals shape: ', head_signals.shape)\n",
    "\n",
    "head_signals_keys = list(head_signals_h5.keys())[0:9][idx_start:idx_stop]\n",
    "head_signals_int = ['yaw_abs', 'roll_abs', 'pitch_abs']\n",
    "print('head_signals_keys intuitive: ', head_signals_int)"
   ]
  },
  {
   "cell_type": "code",
   "execution_count": null,
   "metadata": {
    "collapsed": false
   },
   "outputs": [],
   "source": [
    "tetrode = tetrodes[0].T[:80000,:20]\n",
    "head_signal = head_signals[:80000,0]\n",
    "tetrode.shape"
   ]
  },
  {
   "cell_type": "code",
   "execution_count": null,
   "metadata": {
    "collapsed": false
   },
   "outputs": [],
   "source": [
    "stats = []"
   ]
  },
  {
   "cell_type": "code",
   "execution_count": null,
   "metadata": {
    "collapsed": false
   },
   "outputs": [],
   "source": [
    "# for i in range(-200,201,20):\n",
    "TCD = tempConvDecoder(tetrode,head_signal,['yaw_abs'],window=30,offset=-4000)\n",
    "TCD.fit()\n",
    "R2s,rs = TCD.determine_fit(plot_result=True)\n",
    "print(R2s,rs)\n",
    "#     stats.append([i,R2s,rs])\n",
    "\n",
    "# stats_array = np.asarray(stats)\n",
    "# np.save('statsfile', stats_array)"
   ]
  }
 ],
 "metadata": {
  "kernelspec": {
   "display_name": "Python 3",
   "language": "python",
   "name": "python3"
  }
 },
 "nbformat": 4,
 "nbformat_minor": 2
}
