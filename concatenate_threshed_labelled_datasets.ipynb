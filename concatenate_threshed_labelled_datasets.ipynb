{
 "cells": [
  {
   "cell_type": "code",
   "execution_count": 1,
   "metadata": {
    "collapsed": true
   },
   "outputs": [],
   "source": [
    "import os\n",
    "import numpy as np\n",
    "import pandas as pd\n",
    "import h5py\n",
    "from data_helpers import timeseries_shuffler, split_data\n",
    "%matplotlib inline"
   ]
  },
  {
   "cell_type": "code",
   "execution_count": 2,
   "metadata": {
    "collapsed": true
   },
   "outputs": [],
   "source": [
    "def group_consecutives(vals, step=1):\n",
    "    \"\"\"Return list of consecutive lists of numbers from vals (number list).\"\"\"\n",
    "    run = []\n",
    "    result = [run]\n",
    "    expect = None\n",
    "    for v in vals:\n",
    "        if (v == expect) or (expect is None):\n",
    "            run.append(v)\n",
    "        else:\n",
    "            run = [v]\n",
    "            result.append(run)\n",
    "        expect = v + step\n",
    "    return result\n",
    "\n",
    "def get_turn_peaks(dx,threshold):\n",
    "    ## ephys = samples x electrode channels\n",
    "    crossings =  np.where(abs(dx) > threshold)[0]\n",
    "    peaks = []\n",
    "    grouped_crossings = group_consecutives(crossings)\n",
    "    for idx,thing in enumerate(grouped_crossings):\n",
    "        center = thing[np.argmax(abs(dx[thing]))]\n",
    "        peaks.append(center)\n",
    "        \n",
    "    return peaks\n",
    "\n",
    "def read_data_pair(index):\n",
    "    x_temp = h5py.File('datasets/X/{}'.format(index), 'r')\n",
    "    x_temp = np.asarray([np.asarray(x_temp[key]) for key in x_temp.keys()])[0]\n",
    "\n",
    "    y_temp = h5py.File('datasets/y/{}'.format(index), 'r')\n",
    "    y_temp = np.asarray([np.asarray(y_temp[key]) for key in y_temp.keys()]).T\n",
    "\n",
    "    return x_temp, y_temp\n",
    "\n",
    "def get_labels(X,y):\n",
    "    peaks = get_turn_peaks(y,threshold=.75)\n",
    "    y_peaks = y[peaks]\n",
    "    X_corr = X[peaks]\n",
    "    \n",
    "    labels = []\n",
    "    for peak in peaks:\n",
    "        if y[peak] > 0:\n",
    "            labels.append(1)\n",
    "        elif y[peak] < 0:\n",
    "            labels.append(-1)\n",
    "    labels = np.array(labels)\n",
    "    return labels, X_corr, y_peaks\n",
    "\n",
    "x, y = read_data_pair(1)\n",
    "labels, X_corr, y_peaks = get_labels(x,y)"
   ]
  },
  {
   "cell_type": "code",
   "execution_count": 9,
   "metadata": {},
   "outputs": [
    {
     "data": {
      "text/plain": [
       "(203,)"
      ]
     },
     "execution_count": 9,
     "metadata": {},
     "output_type": "execute_result"
    }
   ],
   "source": [
    "dataset_idxs = os.listdir('datasets/y')\n",
    "all_labels = np.array([])\n",
    "for idx in dataset_idxs:\n",
    "    x, y = read_data_pair(idx)\n",
    "    labels, X_corr, y_peaks = get_labels(x,y)\n",
    "    all_labels = np.concatenate((all_labels, labels))\n",
    "\n",
    "all_labels.shape"
   ]
  }
 ],
 "metadata": {
  "kernelspec": {
   "display_name": "Python 3",
   "language": "python",
   "name": "python3"
  },
  "language_info": {
   "codemirror_mode": {
    "name": "ipython",
    "version": 3
   },
   "file_extension": ".py",
   "mimetype": "text/x-python",
   "name": "python",
   "nbconvert_exporter": "python",
   "pygments_lexer": "ipython3",
   "version": "3.6.3"
  },
  "varInspector": {
   "cols": {
    "lenName": 16,
    "lenType": 16,
    "lenVar": 40
   },
   "kernels_config": {
    "python": {
     "delete_cmd_postfix": "",
     "delete_cmd_prefix": "del ",
     "library": "var_list.py",
     "varRefreshCmd": "print(var_dic_list())"
    },
    "r": {
     "delete_cmd_postfix": ") ",
     "delete_cmd_prefix": "rm(",
     "library": "var_list.r",
     "varRefreshCmd": "cat(var_dic_list()) "
    }
   },
   "types_to_exclude": [
    "module",
    "function",
    "builtin_function_or_method",
    "instance",
    "_Feature"
   ],
   "window_display": false
  }
 },
 "nbformat": 4,
 "nbformat_minor": 2
}
