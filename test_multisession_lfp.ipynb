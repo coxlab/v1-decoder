{
 "cells": [
  {
   "cell_type": "code",
   "execution_count": 1,
   "metadata": {},
   "outputs": [
    {
     "name": "stderr",
     "output_type": "stream",
     "text": [
      "Using TensorFlow backend.\n"
     ]
    }
   ],
   "source": [
    "import os\n",
    "import gc\n",
    "import sys\n",
    "import numpy as np\n",
    "import json\n",
    "from pympler import tracker\n",
    "from datetime import datetime\n",
    "from sklearn.model_selection import KFold\n",
    "from sklearn.linear_model import Ridge\n",
    "from data_helpers import sample_train_test\n",
    "from tempConv import tempConvDecoder\n",
    "# from other import get_sha"
   ]
  },
  {
   "cell_type": "code",
   "execution_count": 2,
   "metadata": {},
   "outputs": [
    {
     "data": {
      "text/plain": [
       "array([[ '/home/joeldapello/Code/v1-decoder/datasets/GRatX/636440035877005948/mua_firing_rates_100hz.hdf5',\n",
       "        '/home/joeldapello/Code/v1-decoder/datasets/GRatX/636440035877005948/all_head_data_100hz.hdf5'],\n",
       "       [ '/home/joeldapello/Code/v1-decoder/datasets/GRatX/636426429249996956/mua_firing_rates_100hz.hdf5',\n",
       "        '/home/joeldapello/Code/v1-decoder/datasets/GRatX/636426429249996956/all_head_data_100hz.hdf5'],\n",
       "       [ '/home/joeldapello/Code/v1-decoder/datasets/GRatX/636432491422312001/mua_firing_rates_100hz.hdf5',\n",
       "        '/home/joeldapello/Code/v1-decoder/datasets/GRatX/636432491422312001/all_head_data_100hz.hdf5']], \n",
       "      dtype='<U95')"
      ]
     },
     "execution_count": 2,
     "metadata": {},
     "output_type": "execute_result"
    }
   ],
   "source": [
    "tr = tracker.SummaryTracker()\n",
    "\n",
    "conf_path = os.path.abspath('datasets/GRatX/ridge_config.json') # pass path to config here as arg\n",
    "rat_path = os.path.dirname(conf_path)\n",
    "conf = json.load(open(conf_path, 'r'))\n",
    "# conf['git_version'] = get_sha()\n",
    "\n",
    "data_keys = [folder for folder in os.listdir(rat_path)]\n",
    "folders = [os.path.join(rat_path,folder) for folder in os.listdir(rat_path)]\n",
    "folders = filter(lambda x: os.path.isdir(x), folders)\n",
    "\n",
    "X_fname = conf['config']['neural_data']\n",
    "y_fname = conf['config']['head_data']\n",
    "dataset_paths = []\n",
    "            \n",
    "## produce dataset_paths, format: [[path/to/X1, path/to/y1], [path/to/X2, path/to/y2]..]\n",
    "## example of collecting some datasets into a list of tuples\n",
    "for folder in folders:\n",
    "    data_file_list = os.listdir(folder)\n",
    "    if True in [conf['config']['condition'] in fil for fil in data_file_list]:\n",
    "        if True in [conf['config']['neural_data'] in fil for fil in data_file_list]:\n",
    "            dataset_paths.append([\n",
    "                folder+'/'+data_file_list[data_file_list.index(X_fname)],\n",
    "                folder+'/'+data_file_list[data_file_list.index(y_fname)]\n",
    "            ])\n",
    "\n",
    "dataset_paths = np.array(dataset_paths)\n",
    "dataset_paths"
   ]
  },
  {
   "cell_type": "code",
   "execution_count": 6,
   "metadata": {},
   "outputs": [
    {
     "name": "stdout",
     "output_type": "stream",
     "text": [
      "sample train loaded: [[ '/home/joeldapello/Code/v1-decoder/datasets/GRatX/636426429249996956/mua_firing_rates_100hz.hdf5'\n",
      "  '/home/joeldapello/Code/v1-decoder/datasets/GRatX/636426429249996956/all_head_data_100hz.hdf5']\n",
      " [ '/home/joeldapello/Code/v1-decoder/datasets/GRatX/636432491422312001/mua_firing_rates_100hz.hdf5'\n",
      "  '/home/joeldapello/Code/v1-decoder/datasets/GRatX/636432491422312001/all_head_data_100hz.hdf5']]\n",
      "sample test loaded: [[ '/home/joeldapello/Code/v1-decoder/datasets/GRatX/636440035877005948/mua_firing_rates_100hz.hdf5'\n",
      "  '/home/joeldapello/Code/v1-decoder/datasets/GRatX/636440035877005948/all_head_data_100hz.hdf5']]\n",
      "********************************** Making RidgeCV Model **********************************\n",
      "sample train loaded: [[ '/home/joeldapello/Code/v1-decoder/datasets/GRatX/636440035877005948/mua_firing_rates_100hz.hdf5'\n",
      "  '/home/joeldapello/Code/v1-decoder/datasets/GRatX/636440035877005948/all_head_data_100hz.hdf5']\n",
      " [ '/home/joeldapello/Code/v1-decoder/datasets/GRatX/636432491422312001/mua_firing_rates_100hz.hdf5'\n",
      "  '/home/joeldapello/Code/v1-decoder/datasets/GRatX/636432491422312001/all_head_data_100hz.hdf5']]\n",
      "sample test loaded: [[ '/home/joeldapello/Code/v1-decoder/datasets/GRatX/636426429249996956/mua_firing_rates_100hz.hdf5'\n",
      "  '/home/joeldapello/Code/v1-decoder/datasets/GRatX/636426429249996956/all_head_data_100hz.hdf5']]\n",
      "********************************** Making RidgeCV Model **********************************\n",
      "sample train loaded: [[ '/home/joeldapello/Code/v1-decoder/datasets/GRatX/636440035877005948/mua_firing_rates_100hz.hdf5'\n",
      "  '/home/joeldapello/Code/v1-decoder/datasets/GRatX/636440035877005948/all_head_data_100hz.hdf5']\n",
      " [ '/home/joeldapello/Code/v1-decoder/datasets/GRatX/636426429249996956/mua_firing_rates_100hz.hdf5'\n",
      "  '/home/joeldapello/Code/v1-decoder/datasets/GRatX/636426429249996956/all_head_data_100hz.hdf5']]\n",
      "sample test loaded: [[ '/home/joeldapello/Code/v1-decoder/datasets/GRatX/636432491422312001/mua_firing_rates_100hz.hdf5'\n",
      "  '/home/joeldapello/Code/v1-decoder/datasets/GRatX/636432491422312001/all_head_data_100hz.hdf5']]\n",
      "********************************** Making RidgeCV Model **********************************\n",
      "[-0.027881214274854349, 0.028931413173190701, -0.21276571943720035, 0.12975909674742181, -0.20489392271681295, 0.089262807757939489]\n"
     ]
    }
   ],
   "source": [
    "conf_nn = conf['nn_params']\n",
    "def make_ridgeCV_model():    \n",
    "    print('********************************** Making RidgeCV Model **********************************')\n",
    "    #Declare model\n",
    "    model = Ridge(alpha=0.1, normalize=True,fit_intercept=True)\n",
    "  \n",
    "    return model\n",
    "\n",
    "stats = []\n",
    "\n",
    "# kfold split dataset_paths, n-1 to train, 1 to test\n",
    "kf = KFold(n_splits=len(dataset_paths))\n",
    "for train_idx, test_idx in kf.split(dataset_paths):\n",
    "    train_paths = dataset_paths[train_idx]\n",
    "    test_paths = dataset_paths[test_idx]\n",
    "    \n",
    "    X_train, y_train, X_test, y_test = [None, None, None, None] # delete residual data first\n",
    "    X_train, y_train, X_test, y_test = sample_train_test(train_paths, test_paths, conf_nn)    \n",
    "    X_train = X_train.reshape(X_train.shape[0],(X_train.shape[1]*X_train.shape[2]))\n",
    "    X_test = X_test.reshape(X_test.shape[0],(X_test.shape[1]*X_test.shape[2]))\n",
    "    \n",
    "    model = make_ridgeCV_model()\n",
    "    model.fit(X_test, y_test)\n",
    "    stats.append(model.score(X_train,y_train))\n",
    "    stats.append(model.score(X_test,y_test))\n",
    "\n",
    "print(stats)"
   ]
  },
  {
   "cell_type": "code",
   "execution_count": 4,
   "metadata": {},
   "outputs": [
    {
     "name": "stdout",
     "output_type": "stream",
     "text": [
      "********************************** Making RidgeCV Model **********************************\n"
     ]
    },
    {
     "data": {
      "text/plain": [
       "Ridge(alpha=0.1, copy_X=True, fit_intercept=True, max_iter=None,\n",
       "   normalize=True, random_state=None, solver='auto', tol=0.001)"
      ]
     },
     "execution_count": 4,
     "metadata": {},
     "output_type": "execute_result"
    }
   ],
   "source": [
    "model = make_ridgeCV_model()\n",
    "model.fit(X_test, y_test)"
   ]
  },
  {
   "cell_type": "code",
   "execution_count": 5,
   "metadata": {},
   "outputs": [
    {
     "data": {
      "text/plain": [
       "0.089436252348787715"
      ]
     },
     "execution_count": 5,
     "metadata": {},
     "output_type": "execute_result"
    }
   ],
   "source": [
    "model.score(X_test,y_test)"
   ]
  },
  {
   "cell_type": "code",
   "execution_count": null,
   "metadata": {},
   "outputs": [],
   "source": [
    "from scipy import stats,signal\n",
    "\n",
    "def filter(ephys,freq_range,filt_order = 4,filt_type='bandpass',fs=10.):\n",
    "    \n",
    "    # design Elliptic filter:\n",
    "\n",
    "    [b,a] = signal.butter(filt_order,[freq/(fs/2) for freq in freq_range],btype=filt_type)\n",
    "    \n",
    "    filtered_trace = signal.filtfilt(b,a,ephys,axis=0)\n",
    "    return filtered_trace\n",
    "\n"
   ]
  },
  {
   "cell_type": "code",
   "execution_count": 7,
   "metadata": {},
   "outputs": [
    {
     "data": {
      "text/plain": [
       "(1116350, 960)"
      ]
     },
     "execution_count": 7,
     "metadata": {},
     "output_type": "execute_result"
    }
   ],
   "source": [
    "X_train.shape"
   ]
  },
  {
   "cell_type": "code",
   "execution_count": 23,
   "metadata": {},
   "outputs": [
    {
     "data": {
      "text/plain": [
       "((1116350, 960), (560861, 960))"
      ]
     },
     "execution_count": 23,
     "metadata": {},
     "output_type": "execute_result"
    }
   ],
   "source": [
    "X_train = X_train.reshape(X_train.shape[0],(X_train.shape[1]*X_train.shape[2]))\n",
    "X_test = X_test.reshape(X_test.shape[0],(X_test.shape[1]*X_test.shape[2]))\n",
    "X_train.shape, X_test.shape"
   ]
  },
  {
   "cell_type": "code",
   "execution_count": 8,
   "metadata": {},
   "outputs": [
    {
     "data": {
      "text/plain": [
       "0.02366116208214919"
      ]
     },
     "execution_count": 8,
     "metadata": {},
     "output_type": "execute_result"
    }
   ],
   "source": [
    "model.score(X_train,y_train)"
   ]
  },
  {
   "cell_type": "code",
   "execution_count": 33,
   "metadata": {},
   "outputs": [
    {
     "name": "stdout",
     "output_type": "stream",
     "text": [
      "********************************** Making RidgeCV Model **********************************\n"
     ]
    },
    {
     "data": {
      "text/plain": [
       "-0.022021158769203186"
      ]
     },
     "execution_count": 33,
     "metadata": {},
     "output_type": "execute_result"
    }
   ],
   "source": [
    "from sklearn.linear_model import Ridge\n",
    "\n",
    "def make_ridgeCV_model():    \n",
    "    print('********************************** Making RidgeCV Model **********************************')\n",
    "    #Declare model\n",
    "    model = Ridge(alpha=0.1, normalize=True,fit_intercept=True)\n",
    "  \n",
    "    return model\n",
    "\n",
    "model = make_ridgeCV_model()\n",
    "model.fit(X_train, y_train)\n",
    "model.score(X_test,y_test)"
   ]
  },
  {
   "cell_type": "code",
   "execution_count": 29,
   "metadata": {},
   "outputs": [
    {
     "data": {
      "text/plain": [
       "(560861, 1)"
      ]
     },
     "execution_count": 29,
     "metadata": {},
     "output_type": "execute_result"
    }
   ],
   "source": [
    "y_hat = model.predict(X_test)\n",
    "# model.score(y_hat,y_test)\n",
    "y_hat.shape"
   ]
  },
  {
   "cell_type": "code",
   "execution_count": 30,
   "metadata": {},
   "outputs": [
    {
     "data": {
      "text/plain": [
       "(560861, 1)"
      ]
     },
     "execution_count": 30,
     "metadata": {},
     "output_type": "execute_result"
    }
   ],
   "source": [
    "y_test.shape"
   ]
  },
  {
   "cell_type": "code",
   "execution_count": 32,
   "metadata": {},
   "outputs": [
    {
     "data": {
      "text/plain": [
       "-0.022021158769203186"
      ]
     },
     "execution_count": 32,
     "metadata": {},
     "output_type": "execute_result"
    }
   ],
   "source": [
    "model.score(X_test,y_test)"
   ]
  },
  {
   "cell_type": "code",
   "execution_count": 9,
   "metadata": {},
   "outputs": [
    {
     "data": {
      "text/plain": [
       "array([[ '/home/joeldapello/Code/v1-decoder/datasets/GRatX/636440035877005948/mua_firing_rates_100hz.hdf5',\n",
       "        '/home/joeldapello/Code/v1-decoder/datasets/GRatX/636440035877005948/all_head_data_100hz.hdf5'],\n",
       "       [ '/home/joeldapello/Code/v1-decoder/datasets/GRatX/636426429249996956/mua_firing_rates_100hz.hdf5',\n",
       "        '/home/joeldapello/Code/v1-decoder/datasets/GRatX/636426429249996956/all_head_data_100hz.hdf5']], \n",
       "      dtype='<U95')"
      ]
     },
     "execution_count": 9,
     "metadata": {},
     "output_type": "execute_result"
    }
   ],
   "source": [
    "# kfold split dataset_paths, n-1 to train, 1 to test\n",
    "kf = KFold(n_splits=len(dataset_paths))\n",
    "for train_idx, test_idx in kf.split(dataset_paths):\n",
    "    train_paths = dataset_paths[train_idx]\n",
    "    test_paths = dataset_paths[test_idx]\n",
    "\n",
    "    print(\"train on:\\n %s\\n test on:\\n %s\\n\" % (train_paths, test_paths))\n",
    "\n",
    "    conf_nn = conf['nn_params']\n",
    "    conf_nn['run_id'] = str(datetime.now().timestamp())\n",
    "    conf_nn['train_paths'] = train_paths.tolist()\n",
    "    conf_nn['test_paths'] = test_paths.tolist()\n",
    "    save_path = os.path.join(rat_path, conf['config']['experiment'], conf_nn['run_id'])\n",
    "    if not os.path.exists(save_path):\n",
    "        print('create save directory: ', save_path)\n",
    "        os.makedirs(save_path)\n",
    "    conf_nn['save_path'] = save_path\n",
    "    \n",
    "    # import pdb; pdb.set_trace()   # uncomment for interactive debugging \n",
    "    \n",
    "    # collect statistics from each epoch\n",
    "    stats = []\n",
    "    \n",
    "    ## train for number of epochs, resampling training datasets at each new epoch\n",
    "    for epoch in range(conf_nn['eps']):\n",
    "        #### train model and test model for each Kfold\n",
    "        # sample first round of data:\n",
    "        X_train, y_train, X_test, y_test = [None, None, None, None] # delete residual data first\n",
    "        X_train, y_train, X_test, y_test = sample_train_test(train_paths, test_paths, conf_nn)\n",
    "\n",
    "        if epoch == 0:\n",
    "            conf_nn['input_shape'] = X_train.shape\n",
    "            conf_nn['output_shape'] = y_train.shape\n",
    "\n",
    "            ## define model on first epoch\n",
    "            TCD = tempConvDecoder(**conf_nn)\n",
    "\n",
    "        print('epoch: %s/%s' % (epoch, conf_nn['eps']))\n",
    "\n",
    "        TCD.model.fit(\n",
    "            X_train,\n",
    "            y_train,\n",
    "            epochs=1, # ignore, we control epochs with for loop  \n",
    "            batch_size=conf_nn['bs']\n",
    "        )\n",
    "        \n",
    "        # ugly plot results if final epoch\n",
    "        if epoch+1 == int(conf_nn['eps']):\n",
    "            R2s,rs = TCD.determine_fit(X_test, y_test, save_result=True)\n",
    "        else:\n",
    "            R2s,rs = TCD.determine_fit(X_test, y_test, save_result=False)\n",
    "\n",
    "        stats.append([R2s, rs])\n",
    "    \n",
    "        print(\"R2: %s\\n r: %s\" % (R2s, rs))\n",
    "\n",
    "        gc.collect()\n",
    "        tr.print_diff()\n",
    "    \n",
    "    conf_nn['stats'] = stats\n",
    "\n",
    "    # save stats and settings after last epoch\n",
    "    with open(os.path.join(save_path, 'trial_info.json'), 'w') as outfile:\n",
    "        json.dump(conf, outfile)\n",
    "    \n",
    "    print(stats)"
   ]
  }
 ],
 "metadata": {
  "kernelspec": {
   "display_name": "v1-decoder",
   "language": "python",
   "name": "v1-decoder"
  },
  "language_info": {
   "codemirror_mode": {
    "name": "ipython",
    "version": 3
   },
   "file_extension": ".py",
   "mimetype": "text/x-python",
   "name": "python",
   "nbconvert_exporter": "python",
   "pygments_lexer": "ipython3",
   "version": "3.6.5"
  },
  "latex_envs": {
   "LaTeX_envs_menu_present": true,
   "autocomplete": true,
   "bibliofile": "biblio.bib",
   "cite_by": "apalike",
   "current_citInitial": 1,
   "eqLabelWithNumbers": true,
   "eqNumInitial": 1,
   "hotkeys": {
    "equation": "Ctrl-E",
    "itemize": "Ctrl-I"
   },
   "labels_anchors": false,
   "latex_user_defs": false,
   "report_style_numbering": false,
   "user_envs_cfg": false
  },
  "varInspector": {
   "cols": {
    "lenName": 16,
    "lenType": 16,
    "lenVar": 40
   },
   "kernels_config": {
    "python": {
     "delete_cmd_postfix": "",
     "delete_cmd_prefix": "del ",
     "library": "var_list.py",
     "varRefreshCmd": "print(var_dic_list())"
    },
    "r": {
     "delete_cmd_postfix": ") ",
     "delete_cmd_prefix": "rm(",
     "library": "var_list.r",
     "varRefreshCmd": "cat(var_dic_list()) "
    }
   },
   "types_to_exclude": [
    "module",
    "function",
    "builtin_function_or_method",
    "instance",
    "_Feature"
   ],
   "window_display": false
  }
 },
 "nbformat": 4,
 "nbformat_minor": 2
}
